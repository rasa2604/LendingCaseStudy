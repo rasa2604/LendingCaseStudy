{
 "cells": [
  {
   "cell_type": "code",
   "execution_count": 7,
   "metadata": {},
   "outputs": [],
   "source": [
    "import pandas as pd\n",
    "import seaborn as sns\n",
    "import numpy as np\n",
    "import matplotlib.pyplot as plt\n",
    "%matplotlib inline\n",
    "from datetime import datetime\n",
    "import re"
   ]
  },
  {
   "cell_type": "code",
   "execution_count": 8,
   "metadata": {},
   "outputs": [
    {
     "name": "stdout",
     "output_type": "stream",
     "text": [
      "<class 'pandas.core.frame.DataFrame'>\n",
      "RangeIndex: 39717 entries, 0 to 39716\n",
      "Columns: 111 entries, id to total_il_high_credit_limit\n",
      "dtypes: float64(74), int64(13), object(24)\n",
      "memory usage: 33.6+ MB\n"
     ]
    }
   ],
   "source": [
    "loan = pd.read_csv(\"loan.csv\", sep=\",\",encoding = \"ISO-8859-1\",low_memory = False)\n",
    "#Information about dataset\n",
    "loan.info()"
   ]
  },
  {
   "cell_type": "code",
   "execution_count": 9,
   "metadata": {},
   "outputs": [
    {
     "name": "stdout",
     "output_type": "stream",
     "text": [
      "Shape of the dataset :  (39717, 111) \n",
      "\n",
      "Columns of the dataset : \n"
     ]
    },
    {
     "data": {
      "text/plain": [
       "Index(['id', 'member_id', 'loan_amnt', 'funded_amnt', 'funded_amnt_inv',\n",
       "       'term', 'int_rate', 'installment', 'grade', 'sub_grade',\n",
       "       ...\n",
       "       'num_tl_90g_dpd_24m', 'num_tl_op_past_12m', 'pct_tl_nvr_dlq',\n",
       "       'percent_bc_gt_75', 'pub_rec_bankruptcies', 'tax_liens',\n",
       "       'tot_hi_cred_lim', 'total_bal_ex_mort', 'total_bc_limit',\n",
       "       'total_il_high_credit_limit'],\n",
       "      dtype='object', length=111)"
      ]
     },
     "execution_count": 9,
     "metadata": {},
     "output_type": "execute_result"
    }
   ],
   "source": [
    "\n",
    "#get number of rows and columns in the dataset\n",
    "\n",
    "print(\"Shape of the dataset : \", loan.shape,\"\\n\")\n",
    "print(\"Columns of the dataset : \")\n",
    "loan.columns"
   ]
  },
  {
   "cell_type": "markdown",
   "metadata": {},
   "source": [
    "# Data Cleaning Start"
   ]
  },
  {
   "cell_type": "code",
   "execution_count": 10,
   "metadata": {},
   "outputs": [
    {
     "name": "stdout",
     "output_type": "stream",
     "text": [
      "Columns containing NA values : \n",
      " Index(['emp_title', 'emp_length', 'desc', 'title', 'mths_since_last_delinq',\n",
      "       'mths_since_last_record', 'revol_util', 'last_pymnt_d', 'next_pymnt_d',\n",
      "       'last_credit_pull_d', 'collections_12_mths_ex_med',\n",
      "       'mths_since_last_major_derog', 'annual_inc_joint', 'dti_joint',\n",
      "       'verification_status_joint', 'tot_coll_amt', 'tot_cur_bal',\n",
      "       'open_acc_6m', 'open_il_6m', 'open_il_12m', 'open_il_24m',\n",
      "       'mths_since_rcnt_il', 'total_bal_il', 'il_util', 'open_rv_12m',\n",
      "       'open_rv_24m', 'max_bal_bc', 'all_util', 'total_rev_hi_lim', 'inq_fi',\n",
      "       'total_cu_tl', 'inq_last_12m', 'acc_open_past_24mths', 'avg_cur_bal',\n",
      "       'bc_open_to_buy', 'bc_util', 'chargeoff_within_12_mths',\n",
      "       'mo_sin_old_il_acct', 'mo_sin_old_rev_tl_op', 'mo_sin_rcnt_rev_tl_op',\n",
      "       'mo_sin_rcnt_tl', 'mort_acc', 'mths_since_recent_bc',\n",
      "       'mths_since_recent_bc_dlq', 'mths_since_recent_inq',\n",
      "       'mths_since_recent_revol_delinq', 'num_accts_ever_120_pd',\n",
      "       'num_actv_bc_tl', 'num_actv_rev_tl', 'num_bc_sats', 'num_bc_tl',\n",
      "       'num_il_tl', 'num_op_rev_tl', 'num_rev_accts', 'num_rev_tl_bal_gt_0',\n",
      "       'num_sats', 'num_tl_120dpd_2m', 'num_tl_30dpd', 'num_tl_90g_dpd_24m',\n",
      "       'num_tl_op_past_12m', 'pct_tl_nvr_dlq', 'percent_bc_gt_75',\n",
      "       'pub_rec_bankruptcies', 'tax_liens', 'tot_hi_cred_lim',\n",
      "       'total_bal_ex_mort', 'total_bc_limit', 'total_il_high_credit_limit'],\n",
      "      dtype='object') \n",
      "\n",
      "\n",
      "Percentage of null values in each columns : \n",
      " emp_title                       6.191303\n",
      "emp_length                      2.706650\n",
      "desc                           32.580507\n",
      "title                           0.027696\n",
      "mths_since_last_delinq         64.662487\n",
      "                                 ...    \n",
      "tax_liens                       0.098195\n",
      "tot_hi_cred_lim               100.000000\n",
      "total_bal_ex_mort             100.000000\n",
      "total_bc_limit                100.000000\n",
      "total_il_high_credit_limit    100.000000\n",
      "Length: 68, dtype: float64\n"
     ]
    }
   ],
   "source": [
    "#get columns with null values\n",
    "null_columns = loan.columns[loan.isnull().any()]\n",
    "\n",
    "print(\"Columns containing NA values : \\n\" , null_columns,\"\\n\\n\")\n",
    "\n",
    "#get percentage of null values\n",
    "null_count = (loan[null_columns].isnull().sum()/len(loan.index))*100\n",
    "\n",
    "print(\"Percentage of null values in each columns : \\n\",null_count)"
   ]
  },
  {
   "cell_type": "code",
   "execution_count": 11,
   "metadata": {},
   "outputs": [
    {
     "name": "stdout",
     "output_type": "stream",
     "text": [
      "Index(['mths_since_last_record', 'next_pymnt_d', 'mths_since_last_major_derog',\n",
      "       'annual_inc_joint', 'dti_joint', 'verification_status_joint',\n",
      "       'tot_coll_amt', 'tot_cur_bal', 'open_acc_6m', 'open_il_6m',\n",
      "       'open_il_12m', 'open_il_24m', 'mths_since_rcnt_il', 'total_bal_il',\n",
      "       'il_util', 'open_rv_12m', 'open_rv_24m', 'max_bal_bc', 'all_util',\n",
      "       'total_rev_hi_lim', 'inq_fi', 'total_cu_tl', 'inq_last_12m',\n",
      "       'acc_open_past_24mths', 'avg_cur_bal', 'bc_open_to_buy', 'bc_util',\n",
      "       'mo_sin_old_il_acct', 'mo_sin_old_rev_tl_op', 'mo_sin_rcnt_rev_tl_op',\n",
      "       'mo_sin_rcnt_tl', 'mort_acc', 'mths_since_recent_bc',\n",
      "       'mths_since_recent_bc_dlq', 'mths_since_recent_inq',\n",
      "       'mths_since_recent_revol_delinq', 'num_accts_ever_120_pd',\n",
      "       'num_actv_bc_tl', 'num_actv_rev_tl', 'num_bc_sats', 'num_bc_tl',\n",
      "       'num_il_tl', 'num_op_rev_tl', 'num_rev_accts', 'num_rev_tl_bal_gt_0',\n",
      "       'num_sats', 'num_tl_120dpd_2m', 'num_tl_30dpd', 'num_tl_90g_dpd_24m',\n",
      "       'num_tl_op_past_12m', 'pct_tl_nvr_dlq', 'percent_bc_gt_75',\n",
      "       'tot_hi_cred_lim', 'total_bal_ex_mort', 'total_bc_limit',\n",
      "       'total_il_high_credit_limit'],\n",
      "      dtype='object')\n"
     ]
    }
   ],
   "source": [
    "# removing the columns having more than 90% missing values\n",
    "missing_columns = loan.columns[100*(loan.isnull().sum()/len(loan.index)) > 90]\n",
    "print(missing_columns)\n",
    "loan_df = loan.drop(missing_columns, axis=1)"
   ]
  },
  {
   "cell_type": "code",
   "execution_count": 12,
   "metadata": {},
   "outputs": [
    {
     "name": "stdout",
     "output_type": "stream",
     "text": [
      "Column details after removing null values\n",
      "=============================================\n",
      "Shape of the dataset :  (39717, 55)\n",
      "Columns containing NA values : \n",
      " Index(['emp_title', 'emp_length', 'desc', 'title', 'mths_since_last_delinq',\n",
      "       'revol_util', 'last_pymnt_d', 'last_credit_pull_d',\n",
      "       'collections_12_mths_ex_med', 'chargeoff_within_12_mths',\n",
      "       'pub_rec_bankruptcies', 'tax_liens'],\n",
      "      dtype='object') \n",
      "\n",
      "\n",
      "Percentage of null values in each columns : \n",
      " emp_title                      6.191303\n",
      "emp_length                     2.706650\n",
      "desc                          32.580507\n",
      "title                          0.027696\n",
      "mths_since_last_delinq        64.662487\n",
      "revol_util                     0.125891\n",
      "last_pymnt_d                   0.178765\n",
      "last_credit_pull_d             0.005036\n",
      "collections_12_mths_ex_med     0.140998\n",
      "chargeoff_within_12_mths       0.140998\n",
      "pub_rec_bankruptcies           1.754916\n",
      "tax_liens                      0.098195\n",
      "dtype: float64\n"
     ]
    }
   ],
   "source": [
    "print(\"Column details after removing null values\")\n",
    "print(\"=============================================\")\n",
    "print(\"Shape of the dataset : \",loan_df.shape)\n",
    "#get columns with null values\n",
    "null_columns = loan_df.columns[loan_df.isnull().any()]\n",
    "print(\"Columns containing NA values : \\n\" , null_columns,\"\\n\\n\")\n",
    "\n",
    "#get percentage of null values\n",
    "null_count = (loan_df[null_columns].isnull().sum()/len(loan_df.index))*100\n",
    "print(\"Percentage of null values in each columns : \\n\",null_count)"
   ]
  },
  {
   "cell_type": "markdown",
   "metadata": {},
   "source": [
    "# Inference:\n",
    "<li>We could see there are 39717 rows and 111 columns in the given dataset.\n",
    "<li>Out of 111 columns, there are lots of columns having only NA values which will be no use for analysis.\n",
    "<li>We will remove the columns with NA values and those are not contributing to the analysis."
   ]
  },
  {
   "cell_type": "code",
   "execution_count": 13,
   "metadata": {},
   "outputs": [
    {
     "name": "stdout",
     "output_type": "stream",
     "text": [
      "<class 'pandas.core.frame.DataFrame'>\n",
      "RangeIndex: 39717 entries, 0 to 39716\n",
      "Data columns (total 55 columns):\n",
      " #   Column                      Non-Null Count  Dtype  \n",
      "---  ------                      --------------  -----  \n",
      " 0   id                          39717 non-null  int64  \n",
      " 1   member_id                   39717 non-null  int64  \n",
      " 2   loan_amnt                   39717 non-null  int64  \n",
      " 3   funded_amnt                 39717 non-null  int64  \n",
      " 4   funded_amnt_inv             39717 non-null  float64\n",
      " 5   term                        39717 non-null  object \n",
      " 6   int_rate                    39717 non-null  object \n",
      " 7   installment                 39717 non-null  float64\n",
      " 8   grade                       39717 non-null  object \n",
      " 9   sub_grade                   39717 non-null  object \n",
      " 10  emp_title                   37258 non-null  object \n",
      " 11  emp_length                  38642 non-null  object \n",
      " 12  home_ownership              39717 non-null  object \n",
      " 13  annual_inc                  39717 non-null  float64\n",
      " 14  verification_status         39717 non-null  object \n",
      " 15  issue_d                     39717 non-null  object \n",
      " 16  loan_status                 39717 non-null  object \n",
      " 17  pymnt_plan                  39717 non-null  object \n",
      " 18  url                         39717 non-null  object \n",
      " 19  desc                        26777 non-null  object \n",
      " 20  purpose                     39717 non-null  object \n",
      " 21  title                       39706 non-null  object \n",
      " 22  zip_code                    39717 non-null  object \n",
      " 23  addr_state                  39717 non-null  object \n",
      " 24  dti                         39717 non-null  float64\n",
      " 25  delinq_2yrs                 39717 non-null  int64  \n",
      " 26  earliest_cr_line            39717 non-null  object \n",
      " 27  inq_last_6mths              39717 non-null  int64  \n",
      " 28  mths_since_last_delinq      14035 non-null  float64\n",
      " 29  open_acc                    39717 non-null  int64  \n",
      " 30  pub_rec                     39717 non-null  int64  \n",
      " 31  revol_bal                   39717 non-null  int64  \n",
      " 32  revol_util                  39667 non-null  object \n",
      " 33  total_acc                   39717 non-null  int64  \n",
      " 34  initial_list_status         39717 non-null  object \n",
      " 35  out_prncp                   39717 non-null  float64\n",
      " 36  out_prncp_inv               39717 non-null  float64\n",
      " 37  total_pymnt                 39717 non-null  float64\n",
      " 38  total_pymnt_inv             39717 non-null  float64\n",
      " 39  total_rec_prncp             39717 non-null  float64\n",
      " 40  total_rec_int               39717 non-null  float64\n",
      " 41  total_rec_late_fee          39717 non-null  float64\n",
      " 42  recoveries                  39717 non-null  float64\n",
      " 43  collection_recovery_fee     39717 non-null  float64\n",
      " 44  last_pymnt_d                39646 non-null  object \n",
      " 45  last_pymnt_amnt             39717 non-null  float64\n",
      " 46  last_credit_pull_d          39715 non-null  object \n",
      " 47  collections_12_mths_ex_med  39661 non-null  float64\n",
      " 48  policy_code                 39717 non-null  int64  \n",
      " 49  application_type            39717 non-null  object \n",
      " 50  acc_now_delinq              39717 non-null  int64  \n",
      " 51  chargeoff_within_12_mths    39661 non-null  float64\n",
      " 52  delinq_amnt                 39717 non-null  int64  \n",
      " 53  pub_rec_bankruptcies        39020 non-null  float64\n",
      " 54  tax_liens                   39678 non-null  float64\n",
      "dtypes: float64(19), int64(13), object(23)\n",
      "memory usage: 16.7+ MB\n"
     ]
    }
   ],
   "source": [
    "#seeing the dataset after dropping the columns with 100% NA values\n",
    "loan_df.info()"
   ]
  },
  {
   "cell_type": "code",
   "execution_count": null,
   "metadata": {},
   "outputs": [],
   "source": []
  },
  {
   "cell_type": "code",
   "execution_count": 14,
   "metadata": {},
   "outputs": [
    {
     "name": "stdout",
     "output_type": "stream",
     "text": [
      "Column:  term having unique values:  [' 36 months' ' 60 months']\n",
      "Column:  grade having unique values:  ['B' 'C' 'A' 'E' 'F' 'D' 'G']\n",
      "Column:  home_ownership having unique values:  ['RENT' 'OWN' 'MORTGAGE' 'OTHER' 'NONE']\n",
      "Column:  verification_status having unique values:  ['Verified' 'Source Verified' 'Not Verified']\n",
      "Column:  loan_status having unique values:  ['Fully Paid' 'Charged Off' 'Current']\n",
      "Column:  pymnt_plan having unique values:  ['n']\n",
      "Column:  inq_last_6mths having unique values:  [1 5 2 0 3 4 6 7 8]\n",
      "Column:  pub_rec having unique values:  [0 1 2 3 4]\n",
      "Column:  initial_list_status having unique values:  ['f']\n",
      "Column:  collections_12_mths_ex_med having unique values:  [ 0. nan]\n",
      "Column:  policy_code having unique values:  [1]\n",
      "Column:  application_type having unique values:  ['INDIVIDUAL']\n",
      "Column:  acc_now_delinq having unique values:  [0]\n",
      "Column:  chargeoff_within_12_mths having unique values:  [ 0. nan]\n",
      "Column:  delinq_amnt having unique values:  [0]\n",
      "Column:  pub_rec_bankruptcies having unique values:  [ 0.  1.  2. nan]\n",
      "Column:  tax_liens having unique values:  [ 0. nan]\n"
     ]
    }
   ],
   "source": [
    "#checking categorical variables and see for useful info\n",
    "unique_columns = loan_df.columns[loan_df.nunique(dropna=False) < 10]\n",
    "\n",
    "for i in range(0,len(unique_columns)):\n",
    "  print(\"Column: \",unique_columns[i],\"having unique values: \",loan_df[unique_columns[i]].unique())"
   ]
  },
  {
   "cell_type": "code",
   "execution_count": 15,
   "metadata": {},
   "outputs": [],
   "source": [
    "\n",
    "#Drop columns having only one categorical value\n",
    "drop_cols = [c for c in list(loan_df) if loan_df[c].nunique() <= 1]\n",
    "#print(drop_cols)\n",
    "loan_df = loan_df.drop(columns=drop_cols)"
   ]
  },
  {
   "cell_type": "code",
   "execution_count": 16,
   "metadata": {},
   "outputs": [],
   "source": [
    "#Removing \n",
    "loan_df = loan_df.drop(columns=['id','member_id','mths_since_last_delinq','desc','emp_title','url','title','zip_code'], inplace=False)"
   ]
  },
  {
   "cell_type": "code",
   "execution_count": 17,
   "metadata": {},
   "outputs": [
    {
     "name": "stdout",
     "output_type": "stream",
     "text": [
      "<class 'pandas.core.frame.DataFrame'>\n",
      "RangeIndex: 39717 entries, 0 to 39716\n",
      "Data columns (total 38 columns):\n",
      " #   Column                   Non-Null Count  Dtype  \n",
      "---  ------                   --------------  -----  \n",
      " 0   loan_amnt                39717 non-null  int64  \n",
      " 1   funded_amnt              39717 non-null  int64  \n",
      " 2   funded_amnt_inv          39717 non-null  float64\n",
      " 3   term                     39717 non-null  object \n",
      " 4   int_rate                 39717 non-null  object \n",
      " 5   installment              39717 non-null  float64\n",
      " 6   grade                    39717 non-null  object \n",
      " 7   sub_grade                39717 non-null  object \n",
      " 8   emp_length               38642 non-null  object \n",
      " 9   home_ownership           39717 non-null  object \n",
      " 10  annual_inc               39717 non-null  float64\n",
      " 11  verification_status      39717 non-null  object \n",
      " 12  issue_d                  39717 non-null  object \n",
      " 13  loan_status              39717 non-null  object \n",
      " 14  purpose                  39717 non-null  object \n",
      " 15  addr_state               39717 non-null  object \n",
      " 16  dti                      39717 non-null  float64\n",
      " 17  delinq_2yrs              39717 non-null  int64  \n",
      " 18  earliest_cr_line         39717 non-null  object \n",
      " 19  inq_last_6mths           39717 non-null  int64  \n",
      " 20  open_acc                 39717 non-null  int64  \n",
      " 21  pub_rec                  39717 non-null  int64  \n",
      " 22  revol_bal                39717 non-null  int64  \n",
      " 23  revol_util               39667 non-null  object \n",
      " 24  total_acc                39717 non-null  int64  \n",
      " 25  out_prncp                39717 non-null  float64\n",
      " 26  out_prncp_inv            39717 non-null  float64\n",
      " 27  total_pymnt              39717 non-null  float64\n",
      " 28  total_pymnt_inv          39717 non-null  float64\n",
      " 29  total_rec_prncp          39717 non-null  float64\n",
      " 30  total_rec_int            39717 non-null  float64\n",
      " 31  total_rec_late_fee       39717 non-null  float64\n",
      " 32  recoveries               39717 non-null  float64\n",
      " 33  collection_recovery_fee  39717 non-null  float64\n",
      " 34  last_pymnt_d             39646 non-null  object \n",
      " 35  last_pymnt_amnt          39717 non-null  float64\n",
      " 36  last_credit_pull_d       39715 non-null  object \n",
      " 37  pub_rec_bankruptcies     39020 non-null  float64\n",
      "dtypes: float64(15), int64(8), object(15)\n",
      "memory usage: 11.5+ MB\n"
     ]
    }
   ],
   "source": [
    "\n",
    "loan_df.info()"
   ]
  },
  {
   "cell_type": "markdown",
   "metadata": {},
   "source": [
    "### Dropping rows with loan status = Curent"
   ]
  },
  {
   "cell_type": "code",
   "execution_count": 18,
   "metadata": {},
   "outputs": [],
   "source": [
    "\n",
    "loan_df.drop(loan_df[(loan_df['loan_status'] == 'Current')].index, inplace=True)"
   ]
  },
  {
   "cell_type": "code",
   "execution_count": 19,
   "metadata": {},
   "outputs": [
    {
     "data": {
      "text/plain": [
       "loan_amnt                  0.00\n",
       "funded_amnt                0.00\n",
       "funded_amnt_inv            0.00\n",
       "term                       0.00\n",
       "int_rate                   0.00\n",
       "installment                0.00\n",
       "grade                      0.00\n",
       "sub_grade                  0.00\n",
       "emp_length                 2.68\n",
       "home_ownership             0.00\n",
       "annual_inc                 0.00\n",
       "verification_status        0.00\n",
       "issue_d                    0.00\n",
       "loan_status                0.00\n",
       "purpose                    0.00\n",
       "addr_state                 0.00\n",
       "dti                        0.00\n",
       "delinq_2yrs                0.00\n",
       "earliest_cr_line           0.00\n",
       "inq_last_6mths             0.00\n",
       "open_acc                   0.00\n",
       "pub_rec                    0.00\n",
       "revol_bal                  0.00\n",
       "revol_util                 0.13\n",
       "total_acc                  0.00\n",
       "out_prncp                  0.00\n",
       "out_prncp_inv              0.00\n",
       "total_pymnt                0.00\n",
       "total_pymnt_inv            0.00\n",
       "total_rec_prncp            0.00\n",
       "total_rec_int              0.00\n",
       "total_rec_late_fee         0.00\n",
       "recoveries                 0.00\n",
       "collection_recovery_fee    0.00\n",
       "last_pymnt_d               0.18\n",
       "last_pymnt_amnt            0.00\n",
       "last_credit_pull_d         0.01\n",
       "pub_rec_bankruptcies       1.81\n",
       "dtype: float64"
      ]
     },
     "execution_count": 19,
     "metadata": {},
     "output_type": "execute_result"
    }
   ],
   "source": [
    "round(loan_df.isnull().sum()/len(loan_df.index)*100,2)"
   ]
  },
  {
   "cell_type": "code",
   "execution_count": 20,
   "metadata": {},
   "outputs": [
    {
     "data": {
      "text/plain": [
       "count    38577.0\n",
       "mean         0.0\n",
       "std          0.0\n",
       "min          0.0\n",
       "25%          0.0\n",
       "50%          0.0\n",
       "75%          0.0\n",
       "max          0.0\n",
       "Name: out_prncp, dtype: float64"
      ]
     },
     "execution_count": 20,
     "metadata": {},
     "output_type": "execute_result"
    }
   ],
   "source": [
    "#Applicable only for Current loan_status - remove out_prncp and out_prncp_inv\n",
    "#Remove recoveries and collection recovery fee - later part of analysis if needed\n",
    "#Drop last_payment_d and last_payment_amount\n",
    "loan_df.out_prncp.describe()"
   ]
  },
  {
   "cell_type": "code",
   "execution_count": 21,
   "metadata": {},
   "outputs": [
    {
     "data": {
      "text/plain": [
       "count    38577.0\n",
       "mean         0.0\n",
       "std          0.0\n",
       "min          0.0\n",
       "25%          0.0\n",
       "50%          0.0\n",
       "75%          0.0\n",
       "max          0.0\n",
       "Name: out_prncp_inv, dtype: float64"
      ]
     },
     "execution_count": 21,
     "metadata": {},
     "output_type": "execute_result"
    }
   ],
   "source": [
    "loan_df.out_prncp_inv.describe()"
   ]
  },
  {
   "cell_type": "markdown",
   "metadata": {},
   "source": [
    "Removing out.... as no longer relvent after removing current active loans"
   ]
  },
  {
   "cell_type": "code",
   "execution_count": 22,
   "metadata": {},
   "outputs": [],
   "source": [
    "loan_df = loan_df.drop(columns=['out_prncp','out_prncp_inv'], inplace=False)"
   ]
  },
  {
   "cell_type": "code",
   "execution_count": 23,
   "metadata": {},
   "outputs": [
    {
     "data": {
      "text/plain": [
       "10+ years    8488\n",
       "< 1 year     4508\n",
       "2 years      4291\n",
       "3 years      4012\n",
       "4 years      3342\n",
       "5 years      3194\n",
       "1 year       3169\n",
       "6 years      2168\n",
       "7 years      1711\n",
       "8 years      1435\n",
       "9 years      1226\n",
       "Name: emp_length, dtype: int64"
      ]
     },
     "execution_count": 23,
     "metadata": {},
     "output_type": "execute_result"
    }
   ],
   "source": [
    "loan_df['emp_length'].value_counts()"
   ]
  },
  {
   "cell_type": "code",
   "execution_count": 24,
   "metadata": {},
   "outputs": [],
   "source": [
    "loan_df['emp_length'].fillna(0,inplace=True)"
   ]
  },
  {
   "cell_type": "code",
   "execution_count": 25,
   "metadata": {},
   "outputs": [],
   "source": [
    "loan_df.emp_length = loan_df['emp_length'].apply(lambda x: re.split(r'(\\d+)',str(x))[1]).astype('int64')"
   ]
  },
  {
   "cell_type": "code",
   "execution_count": 26,
   "metadata": {},
   "outputs": [
    {
     "data": {
      "text/plain": [
       "10    8488\n",
       "1     7677\n",
       "2     4291\n",
       "3     4012\n",
       "4     3342\n",
       "5     3194\n",
       "6     2168\n",
       "7     1711\n",
       "8     1435\n",
       "9     1226\n",
       "0     1033\n",
       "Name: emp_length, dtype: int64"
      ]
     },
     "execution_count": 26,
     "metadata": {},
     "output_type": "execute_result"
    }
   ],
   "source": [
    "loan_df['emp_length'].value_counts()"
   ]
  },
  {
   "cell_type": "code",
   "execution_count": 27,
   "metadata": {},
   "outputs": [
    {
     "data": {
      "text/plain": [
       "0.0    36238\n",
       "1.0     1637\n",
       "2.0        5\n",
       "Name: pub_rec_bankruptcies, dtype: int64"
      ]
     },
     "execution_count": 27,
     "metadata": {},
     "output_type": "execute_result"
    }
   ],
   "source": [
    "loan_df['pub_rec_bankruptcies'].value_counts()"
   ]
  },
  {
   "cell_type": "code",
   "execution_count": 28,
   "metadata": {},
   "outputs": [
    {
     "data": {
      "text/plain": [
       "loan_amnt                    0\n",
       "funded_amnt                  0\n",
       "funded_amnt_inv              0\n",
       "term                         0\n",
       "int_rate                     0\n",
       "installment                  0\n",
       "grade                        0\n",
       "sub_grade                    0\n",
       "emp_length                   0\n",
       "home_ownership               0\n",
       "annual_inc                   0\n",
       "verification_status          0\n",
       "issue_d                      0\n",
       "loan_status                  0\n",
       "purpose                      0\n",
       "addr_state                   0\n",
       "dti                          0\n",
       "delinq_2yrs                  0\n",
       "earliest_cr_line             0\n",
       "inq_last_6mths               0\n",
       "open_acc                     0\n",
       "pub_rec                      0\n",
       "revol_bal                    0\n",
       "revol_util                  50\n",
       "total_acc                    0\n",
       "total_pymnt                  0\n",
       "total_pymnt_inv              0\n",
       "total_rec_prncp              0\n",
       "total_rec_int                0\n",
       "total_rec_late_fee           0\n",
       "recoveries                   0\n",
       "collection_recovery_fee      0\n",
       "last_pymnt_d                71\n",
       "last_pymnt_amnt              0\n",
       "last_credit_pull_d           2\n",
       "pub_rec_bankruptcies       697\n",
       "dtype: int64"
      ]
     },
     "execution_count": 28,
     "metadata": {},
     "output_type": "execute_result"
    }
   ],
   "source": [
    "loan_df.isnull().sum(axis=0)"
   ]
  },
  {
   "cell_type": "code",
   "execution_count": 29,
   "metadata": {},
   "outputs": [
    {
     "data": {
      "text/html": [
       "<div>\n",
       "<style scoped>\n",
       "    .dataframe tbody tr th:only-of-type {\n",
       "        vertical-align: middle;\n",
       "    }\n",
       "\n",
       "    .dataframe tbody tr th {\n",
       "        vertical-align: top;\n",
       "    }\n",
       "\n",
       "    .dataframe thead th {\n",
       "        text-align: right;\n",
       "    }\n",
       "</style>\n",
       "<table border=\"1\" class=\"dataframe\">\n",
       "  <thead>\n",
       "    <tr style=\"text-align: right;\">\n",
       "      <th></th>\n",
       "      <th>loan_amnt</th>\n",
       "      <th>funded_amnt</th>\n",
       "      <th>funded_amnt_inv</th>\n",
       "      <th>term</th>\n",
       "      <th>int_rate</th>\n",
       "      <th>installment</th>\n",
       "      <th>grade</th>\n",
       "      <th>sub_grade</th>\n",
       "      <th>emp_length</th>\n",
       "      <th>home_ownership</th>\n",
       "      <th>...</th>\n",
       "      <th>total_pymnt_inv</th>\n",
       "      <th>total_rec_prncp</th>\n",
       "      <th>total_rec_int</th>\n",
       "      <th>total_rec_late_fee</th>\n",
       "      <th>recoveries</th>\n",
       "      <th>collection_recovery_fee</th>\n",
       "      <th>last_pymnt_d</th>\n",
       "      <th>last_pymnt_amnt</th>\n",
       "      <th>last_credit_pull_d</th>\n",
       "      <th>pub_rec_bankruptcies</th>\n",
       "    </tr>\n",
       "  </thead>\n",
       "  <tbody>\n",
       "    <tr>\n",
       "      <th>0</th>\n",
       "      <td>5000</td>\n",
       "      <td>5000</td>\n",
       "      <td>4975.0</td>\n",
       "      <td>36 months</td>\n",
       "      <td>10.65%</td>\n",
       "      <td>162.87</td>\n",
       "      <td>B</td>\n",
       "      <td>B2</td>\n",
       "      <td>10</td>\n",
       "      <td>RENT</td>\n",
       "      <td>...</td>\n",
       "      <td>5833.84</td>\n",
       "      <td>5000.00</td>\n",
       "      <td>863.16</td>\n",
       "      <td>0.00</td>\n",
       "      <td>0.00</td>\n",
       "      <td>0.00</td>\n",
       "      <td>Jan-15</td>\n",
       "      <td>171.62</td>\n",
       "      <td>May-16</td>\n",
       "      <td>0.0</td>\n",
       "    </tr>\n",
       "    <tr>\n",
       "      <th>1</th>\n",
       "      <td>2500</td>\n",
       "      <td>2500</td>\n",
       "      <td>2500.0</td>\n",
       "      <td>60 months</td>\n",
       "      <td>15.27%</td>\n",
       "      <td>59.83</td>\n",
       "      <td>C</td>\n",
       "      <td>C4</td>\n",
       "      <td>1</td>\n",
       "      <td>RENT</td>\n",
       "      <td>...</td>\n",
       "      <td>1008.71</td>\n",
       "      <td>456.46</td>\n",
       "      <td>435.17</td>\n",
       "      <td>0.00</td>\n",
       "      <td>117.08</td>\n",
       "      <td>1.11</td>\n",
       "      <td>Apr-13</td>\n",
       "      <td>119.66</td>\n",
       "      <td>Sep-13</td>\n",
       "      <td>0.0</td>\n",
       "    </tr>\n",
       "    <tr>\n",
       "      <th>2</th>\n",
       "      <td>2400</td>\n",
       "      <td>2400</td>\n",
       "      <td>2400.0</td>\n",
       "      <td>36 months</td>\n",
       "      <td>15.96%</td>\n",
       "      <td>84.33</td>\n",
       "      <td>C</td>\n",
       "      <td>C5</td>\n",
       "      <td>10</td>\n",
       "      <td>RENT</td>\n",
       "      <td>...</td>\n",
       "      <td>3005.67</td>\n",
       "      <td>2400.00</td>\n",
       "      <td>605.67</td>\n",
       "      <td>0.00</td>\n",
       "      <td>0.00</td>\n",
       "      <td>0.00</td>\n",
       "      <td>Jun-14</td>\n",
       "      <td>649.91</td>\n",
       "      <td>May-16</td>\n",
       "      <td>0.0</td>\n",
       "    </tr>\n",
       "    <tr>\n",
       "      <th>3</th>\n",
       "      <td>10000</td>\n",
       "      <td>10000</td>\n",
       "      <td>10000.0</td>\n",
       "      <td>36 months</td>\n",
       "      <td>13.49%</td>\n",
       "      <td>339.31</td>\n",
       "      <td>C</td>\n",
       "      <td>C1</td>\n",
       "      <td>10</td>\n",
       "      <td>RENT</td>\n",
       "      <td>...</td>\n",
       "      <td>12231.89</td>\n",
       "      <td>10000.00</td>\n",
       "      <td>2214.92</td>\n",
       "      <td>16.97</td>\n",
       "      <td>0.00</td>\n",
       "      <td>0.00</td>\n",
       "      <td>Jan-15</td>\n",
       "      <td>357.48</td>\n",
       "      <td>Apr-16</td>\n",
       "      <td>0.0</td>\n",
       "    </tr>\n",
       "    <tr>\n",
       "      <th>5</th>\n",
       "      <td>5000</td>\n",
       "      <td>5000</td>\n",
       "      <td>5000.0</td>\n",
       "      <td>36 months</td>\n",
       "      <td>7.90%</td>\n",
       "      <td>156.46</td>\n",
       "      <td>A</td>\n",
       "      <td>A4</td>\n",
       "      <td>3</td>\n",
       "      <td>RENT</td>\n",
       "      <td>...</td>\n",
       "      <td>5632.21</td>\n",
       "      <td>5000.00</td>\n",
       "      <td>632.21</td>\n",
       "      <td>0.00</td>\n",
       "      <td>0.00</td>\n",
       "      <td>0.00</td>\n",
       "      <td>Jan-15</td>\n",
       "      <td>161.03</td>\n",
       "      <td>Jan-16</td>\n",
       "      <td>0.0</td>\n",
       "    </tr>\n",
       "  </tbody>\n",
       "</table>\n",
       "<p>5 rows × 36 columns</p>\n",
       "</div>"
      ],
      "text/plain": [
       "   loan_amnt  funded_amnt  funded_amnt_inv        term int_rate  installment  \\\n",
       "0       5000         5000           4975.0   36 months   10.65%       162.87   \n",
       "1       2500         2500           2500.0   60 months   15.27%        59.83   \n",
       "2       2400         2400           2400.0   36 months   15.96%        84.33   \n",
       "3      10000        10000          10000.0   36 months   13.49%       339.31   \n",
       "5       5000         5000           5000.0   36 months    7.90%       156.46   \n",
       "\n",
       "  grade sub_grade  emp_length home_ownership  ...  total_pymnt_inv  \\\n",
       "0     B        B2          10           RENT  ...          5833.84   \n",
       "1     C        C4           1           RENT  ...          1008.71   \n",
       "2     C        C5          10           RENT  ...          3005.67   \n",
       "3     C        C1          10           RENT  ...         12231.89   \n",
       "5     A        A4           3           RENT  ...          5632.21   \n",
       "\n",
       "  total_rec_prncp total_rec_int total_rec_late_fee recoveries  \\\n",
       "0         5000.00        863.16               0.00       0.00   \n",
       "1          456.46        435.17               0.00     117.08   \n",
       "2         2400.00        605.67               0.00       0.00   \n",
       "3        10000.00       2214.92              16.97       0.00   \n",
       "5         5000.00        632.21               0.00       0.00   \n",
       "\n",
       "  collection_recovery_fee  last_pymnt_d  last_pymnt_amnt last_credit_pull_d  \\\n",
       "0                    0.00        Jan-15           171.62             May-16   \n",
       "1                    1.11        Apr-13           119.66             Sep-13   \n",
       "2                    0.00        Jun-14           649.91             May-16   \n",
       "3                    0.00        Jan-15           357.48             Apr-16   \n",
       "5                    0.00        Jan-15           161.03             Jan-16   \n",
       "\n",
       "   pub_rec_bankruptcies  \n",
       "0                   0.0  \n",
       "1                   0.0  \n",
       "2                   0.0  \n",
       "3                   0.0  \n",
       "5                   0.0  \n",
       "\n",
       "[5 rows x 36 columns]"
      ]
     },
     "execution_count": 29,
     "metadata": {},
     "output_type": "execute_result"
    }
   ],
   "source": [
    "loan_df.head()"
   ]
  },
  {
   "cell_type": "markdown",
   "metadata": {},
   "source": [
    "# Date mapping : String to Convert date time"
   ]
  },
  {
   "cell_type": "code",
   "execution_count": 30,
   "metadata": {},
   "outputs": [],
   "source": [
    "# Coverting Dates to date time format \n",
    "loan_df.issue_d=pd.to_datetime(loan_df.issue_d, format='%b-%y', errors='ignore')\n",
    "loan_df.last_pymnt_d=pd.to_datetime(loan_df.last_pymnt_d, format='%b-%y', errors='ignore')\n",
    "loan_df.last_credit_pull_d=pd.to_datetime(loan_df.last_credit_pull_d, format='%b-%y', errors='ignore')\n",
    "loan_df.earliest_cr_line=pd.to_datetime(loan_df.earliest_cr_line, format='%b-%y', errors='ignore')\n",
    "\n"
   ]
  },
  {
   "cell_type": "code",
   "execution_count": 31,
   "metadata": {},
   "outputs": [
    {
     "data": {
      "text/plain": [
       "(38577, 36)"
      ]
     },
     "execution_count": 31,
     "metadata": {},
     "output_type": "execute_result"
    }
   ],
   "source": [
    "loan_df.shape"
   ]
  },
  {
   "cell_type": "code",
   "execution_count": 32,
   "metadata": {},
   "outputs": [
    {
     "name": "stdout",
     "output_type": "stream",
     "text": [
      "<class 'pandas.core.frame.DataFrame'>\n",
      "Int64Index: 38577 entries, 0 to 39716\n",
      "Data columns (total 36 columns):\n",
      " #   Column                   Non-Null Count  Dtype         \n",
      "---  ------                   --------------  -----         \n",
      " 0   loan_amnt                38577 non-null  int64         \n",
      " 1   funded_amnt              38577 non-null  int64         \n",
      " 2   funded_amnt_inv          38577 non-null  float64       \n",
      " 3   term                     38577 non-null  object        \n",
      " 4   int_rate                 38577 non-null  object        \n",
      " 5   installment              38577 non-null  float64       \n",
      " 6   grade                    38577 non-null  object        \n",
      " 7   sub_grade                38577 non-null  object        \n",
      " 8   emp_length               38577 non-null  int64         \n",
      " 9   home_ownership           38577 non-null  object        \n",
      " 10  annual_inc               38577 non-null  float64       \n",
      " 11  verification_status      38577 non-null  object        \n",
      " 12  issue_d                  38577 non-null  datetime64[ns]\n",
      " 13  loan_status              38577 non-null  object        \n",
      " 14  purpose                  38577 non-null  object        \n",
      " 15  addr_state               38577 non-null  object        \n",
      " 16  dti                      38577 non-null  float64       \n",
      " 17  delinq_2yrs              38577 non-null  int64         \n",
      " 18  earliest_cr_line         38577 non-null  datetime64[ns]\n",
      " 19  inq_last_6mths           38577 non-null  int64         \n",
      " 20  open_acc                 38577 non-null  int64         \n",
      " 21  pub_rec                  38577 non-null  int64         \n",
      " 22  revol_bal                38577 non-null  int64         \n",
      " 23  revol_util               38527 non-null  object        \n",
      " 24  total_acc                38577 non-null  int64         \n",
      " 25  total_pymnt              38577 non-null  float64       \n",
      " 26  total_pymnt_inv          38577 non-null  float64       \n",
      " 27  total_rec_prncp          38577 non-null  float64       \n",
      " 28  total_rec_int            38577 non-null  float64       \n",
      " 29  total_rec_late_fee       38577 non-null  float64       \n",
      " 30  recoveries               38577 non-null  float64       \n",
      " 31  collection_recovery_fee  38577 non-null  float64       \n",
      " 32  last_pymnt_d             38506 non-null  datetime64[ns]\n",
      " 33  last_pymnt_amnt          38577 non-null  float64       \n",
      " 34  last_credit_pull_d       38575 non-null  datetime64[ns]\n",
      " 35  pub_rec_bankruptcies     37880 non-null  float64       \n",
      "dtypes: datetime64[ns](4), float64(13), int64(9), object(10)\n",
      "memory usage: 10.9+ MB\n"
     ]
    }
   ],
   "source": [
    "loan_df.info()"
   ]
  },
  {
   "cell_type": "markdown",
   "metadata": {},
   "source": [
    "### Rounding floats"
   ]
  },
  {
   "cell_type": "code",
   "execution_count": 33,
   "metadata": {},
   "outputs": [
    {
     "data": {
      "text/html": [
       "<div>\n",
       "<style scoped>\n",
       "    .dataframe tbody tr th:only-of-type {\n",
       "        vertical-align: middle;\n",
       "    }\n",
       "\n",
       "    .dataframe tbody tr th {\n",
       "        vertical-align: top;\n",
       "    }\n",
       "\n",
       "    .dataframe thead th {\n",
       "        text-align: right;\n",
       "    }\n",
       "</style>\n",
       "<table border=\"1\" class=\"dataframe\">\n",
       "  <thead>\n",
       "    <tr style=\"text-align: right;\">\n",
       "      <th></th>\n",
       "      <th>funded_amnt_inv</th>\n",
       "      <th>installment</th>\n",
       "      <th>annual_inc</th>\n",
       "      <th>dti</th>\n",
       "      <th>total_pymnt</th>\n",
       "      <th>total_pymnt_inv</th>\n",
       "      <th>total_rec_prncp</th>\n",
       "      <th>total_rec_int</th>\n",
       "      <th>total_rec_late_fee</th>\n",
       "      <th>recoveries</th>\n",
       "      <th>collection_recovery_fee</th>\n",
       "      <th>last_pymnt_amnt</th>\n",
       "      <th>pub_rec_bankruptcies</th>\n",
       "    </tr>\n",
       "  </thead>\n",
       "  <tbody>\n",
       "    <tr>\n",
       "      <th>0</th>\n",
       "      <td>4975.0</td>\n",
       "      <td>162.87</td>\n",
       "      <td>24000.0</td>\n",
       "      <td>27.65</td>\n",
       "      <td>5863.155187</td>\n",
       "      <td>5833.84</td>\n",
       "      <td>5000.00</td>\n",
       "      <td>863.16</td>\n",
       "      <td>0.00</td>\n",
       "      <td>0.00</td>\n",
       "      <td>0.00</td>\n",
       "      <td>171.62</td>\n",
       "      <td>0.0</td>\n",
       "    </tr>\n",
       "    <tr>\n",
       "      <th>1</th>\n",
       "      <td>2500.0</td>\n",
       "      <td>59.83</td>\n",
       "      <td>30000.0</td>\n",
       "      <td>1.00</td>\n",
       "      <td>1008.710000</td>\n",
       "      <td>1008.71</td>\n",
       "      <td>456.46</td>\n",
       "      <td>435.17</td>\n",
       "      <td>0.00</td>\n",
       "      <td>117.08</td>\n",
       "      <td>1.11</td>\n",
       "      <td>119.66</td>\n",
       "      <td>0.0</td>\n",
       "    </tr>\n",
       "    <tr>\n",
       "      <th>2</th>\n",
       "      <td>2400.0</td>\n",
       "      <td>84.33</td>\n",
       "      <td>12252.0</td>\n",
       "      <td>8.72</td>\n",
       "      <td>3005.666844</td>\n",
       "      <td>3005.67</td>\n",
       "      <td>2400.00</td>\n",
       "      <td>605.67</td>\n",
       "      <td>0.00</td>\n",
       "      <td>0.00</td>\n",
       "      <td>0.00</td>\n",
       "      <td>649.91</td>\n",
       "      <td>0.0</td>\n",
       "    </tr>\n",
       "    <tr>\n",
       "      <th>3</th>\n",
       "      <td>10000.0</td>\n",
       "      <td>339.31</td>\n",
       "      <td>49200.0</td>\n",
       "      <td>20.00</td>\n",
       "      <td>12231.890000</td>\n",
       "      <td>12231.89</td>\n",
       "      <td>10000.00</td>\n",
       "      <td>2214.92</td>\n",
       "      <td>16.97</td>\n",
       "      <td>0.00</td>\n",
       "      <td>0.00</td>\n",
       "      <td>357.48</td>\n",
       "      <td>0.0</td>\n",
       "    </tr>\n",
       "    <tr>\n",
       "      <th>5</th>\n",
       "      <td>5000.0</td>\n",
       "      <td>156.46</td>\n",
       "      <td>36000.0</td>\n",
       "      <td>11.20</td>\n",
       "      <td>5632.210000</td>\n",
       "      <td>5632.21</td>\n",
       "      <td>5000.00</td>\n",
       "      <td>632.21</td>\n",
       "      <td>0.00</td>\n",
       "      <td>0.00</td>\n",
       "      <td>0.00</td>\n",
       "      <td>161.03</td>\n",
       "      <td>0.0</td>\n",
       "    </tr>\n",
       "    <tr>\n",
       "      <th>...</th>\n",
       "      <td>...</td>\n",
       "      <td>...</td>\n",
       "      <td>...</td>\n",
       "      <td>...</td>\n",
       "      <td>...</td>\n",
       "      <td>...</td>\n",
       "      <td>...</td>\n",
       "      <td>...</td>\n",
       "      <td>...</td>\n",
       "      <td>...</td>\n",
       "      <td>...</td>\n",
       "      <td>...</td>\n",
       "      <td>...</td>\n",
       "    </tr>\n",
       "    <tr>\n",
       "      <th>39712</th>\n",
       "      <td>1075.0</td>\n",
       "      <td>78.42</td>\n",
       "      <td>110000.0</td>\n",
       "      <td>11.33</td>\n",
       "      <td>2822.969293</td>\n",
       "      <td>1213.88</td>\n",
       "      <td>2500.00</td>\n",
       "      <td>322.97</td>\n",
       "      <td>0.00</td>\n",
       "      <td>0.00</td>\n",
       "      <td>0.00</td>\n",
       "      <td>80.90</td>\n",
       "      <td>NaN</td>\n",
       "    </tr>\n",
       "    <tr>\n",
       "      <th>39713</th>\n",
       "      <td>875.0</td>\n",
       "      <td>275.38</td>\n",
       "      <td>18000.0</td>\n",
       "      <td>6.40</td>\n",
       "      <td>9913.491822</td>\n",
       "      <td>1020.51</td>\n",
       "      <td>8500.00</td>\n",
       "      <td>1413.49</td>\n",
       "      <td>0.00</td>\n",
       "      <td>0.00</td>\n",
       "      <td>0.00</td>\n",
       "      <td>281.94</td>\n",
       "      <td>NaN</td>\n",
       "    </tr>\n",
       "    <tr>\n",
       "      <th>39714</th>\n",
       "      <td>1325.0</td>\n",
       "      <td>156.84</td>\n",
       "      <td>100000.0</td>\n",
       "      <td>2.30</td>\n",
       "      <td>5272.161128</td>\n",
       "      <td>1397.12</td>\n",
       "      <td>5000.00</td>\n",
       "      <td>272.16</td>\n",
       "      <td>0.00</td>\n",
       "      <td>0.00</td>\n",
       "      <td>0.00</td>\n",
       "      <td>0.00</td>\n",
       "      <td>NaN</td>\n",
       "    </tr>\n",
       "    <tr>\n",
       "      <th>39715</th>\n",
       "      <td>650.0</td>\n",
       "      <td>155.38</td>\n",
       "      <td>200000.0</td>\n",
       "      <td>3.72</td>\n",
       "      <td>5174.198551</td>\n",
       "      <td>672.66</td>\n",
       "      <td>5000.00</td>\n",
       "      <td>174.20</td>\n",
       "      <td>0.00</td>\n",
       "      <td>0.00</td>\n",
       "      <td>0.00</td>\n",
       "      <td>0.00</td>\n",
       "      <td>NaN</td>\n",
       "    </tr>\n",
       "    <tr>\n",
       "      <th>39716</th>\n",
       "      <td>800.0</td>\n",
       "      <td>255.43</td>\n",
       "      <td>22000.0</td>\n",
       "      <td>14.29</td>\n",
       "      <td>9195.263334</td>\n",
       "      <td>980.83</td>\n",
       "      <td>7500.00</td>\n",
       "      <td>1695.26</td>\n",
       "      <td>0.00</td>\n",
       "      <td>0.00</td>\n",
       "      <td>0.00</td>\n",
       "      <td>256.59</td>\n",
       "      <td>NaN</td>\n",
       "    </tr>\n",
       "  </tbody>\n",
       "</table>\n",
       "<p>38577 rows × 13 columns</p>\n",
       "</div>"
      ],
      "text/plain": [
       "       funded_amnt_inv  installment  annual_inc    dti   total_pymnt  \\\n",
       "0               4975.0       162.87     24000.0  27.65   5863.155187   \n",
       "1               2500.0        59.83     30000.0   1.00   1008.710000   \n",
       "2               2400.0        84.33     12252.0   8.72   3005.666844   \n",
       "3              10000.0       339.31     49200.0  20.00  12231.890000   \n",
       "5               5000.0       156.46     36000.0  11.20   5632.210000   \n",
       "...                ...          ...         ...    ...           ...   \n",
       "39712           1075.0        78.42    110000.0  11.33   2822.969293   \n",
       "39713            875.0       275.38     18000.0   6.40   9913.491822   \n",
       "39714           1325.0       156.84    100000.0   2.30   5272.161128   \n",
       "39715            650.0       155.38    200000.0   3.72   5174.198551   \n",
       "39716            800.0       255.43     22000.0  14.29   9195.263334   \n",
       "\n",
       "       total_pymnt_inv  total_rec_prncp  total_rec_int  total_rec_late_fee  \\\n",
       "0              5833.84          5000.00         863.16                0.00   \n",
       "1              1008.71           456.46         435.17                0.00   \n",
       "2              3005.67          2400.00         605.67                0.00   \n",
       "3             12231.89         10000.00        2214.92               16.97   \n",
       "5              5632.21          5000.00         632.21                0.00   \n",
       "...                ...              ...            ...                 ...   \n",
       "39712          1213.88          2500.00         322.97                0.00   \n",
       "39713          1020.51          8500.00        1413.49                0.00   \n",
       "39714          1397.12          5000.00         272.16                0.00   \n",
       "39715           672.66          5000.00         174.20                0.00   \n",
       "39716           980.83          7500.00        1695.26                0.00   \n",
       "\n",
       "       recoveries  collection_recovery_fee  last_pymnt_amnt  \\\n",
       "0            0.00                     0.00           171.62   \n",
       "1          117.08                     1.11           119.66   \n",
       "2            0.00                     0.00           649.91   \n",
       "3            0.00                     0.00           357.48   \n",
       "5            0.00                     0.00           161.03   \n",
       "...           ...                      ...              ...   \n",
       "39712        0.00                     0.00            80.90   \n",
       "39713        0.00                     0.00           281.94   \n",
       "39714        0.00                     0.00             0.00   \n",
       "39715        0.00                     0.00             0.00   \n",
       "39716        0.00                     0.00           256.59   \n",
       "\n",
       "       pub_rec_bankruptcies  \n",
       "0                       0.0  \n",
       "1                       0.0  \n",
       "2                       0.0  \n",
       "3                       0.0  \n",
       "5                       0.0  \n",
       "...                     ...  \n",
       "39712                   NaN  \n",
       "39713                   NaN  \n",
       "39714                   NaN  \n",
       "39715                   NaN  \n",
       "39716                   NaN  \n",
       "\n",
       "[38577 rows x 13 columns]"
      ]
     },
     "execution_count": 33,
     "metadata": {},
     "output_type": "execute_result"
    }
   ],
   "source": [
    "loan_df.select_dtypes(include=['float64'])\n"
   ]
  },
  {
   "cell_type": "code",
   "execution_count": 34,
   "metadata": {},
   "outputs": [],
   "source": [
    "loan_df.funded_amnt_inv=round(loan_df.funded_amnt_inv, 2)\n",
    "loan_df.total_pymnt=round(loan_df.total_pymnt, 2)\n",
    "loan_df.total_rec_late_fee=round(loan_df.total_rec_late_fee, 2)\n",
    "loan_df.collection_recovery_fee=round(loan_df.collection_recovery_fee, 2)\n"
   ]
  },
  {
   "cell_type": "code",
   "execution_count": 35,
   "metadata": {},
   "outputs": [
    {
     "data": {
      "text/html": [
       "<div>\n",
       "<style scoped>\n",
       "    .dataframe tbody tr th:only-of-type {\n",
       "        vertical-align: middle;\n",
       "    }\n",
       "\n",
       "    .dataframe tbody tr th {\n",
       "        vertical-align: top;\n",
       "    }\n",
       "\n",
       "    .dataframe thead th {\n",
       "        text-align: right;\n",
       "    }\n",
       "</style>\n",
       "<table border=\"1\" class=\"dataframe\">\n",
       "  <thead>\n",
       "    <tr style=\"text-align: right;\">\n",
       "      <th></th>\n",
       "      <th>funded_amnt_inv</th>\n",
       "      <th>installment</th>\n",
       "      <th>annual_inc</th>\n",
       "      <th>dti</th>\n",
       "      <th>total_pymnt</th>\n",
       "      <th>total_pymnt_inv</th>\n",
       "      <th>total_rec_prncp</th>\n",
       "      <th>total_rec_int</th>\n",
       "      <th>total_rec_late_fee</th>\n",
       "      <th>recoveries</th>\n",
       "      <th>collection_recovery_fee</th>\n",
       "      <th>last_pymnt_amnt</th>\n",
       "      <th>pub_rec_bankruptcies</th>\n",
       "    </tr>\n",
       "  </thead>\n",
       "  <tbody>\n",
       "    <tr>\n",
       "      <th>0</th>\n",
       "      <td>4975.0</td>\n",
       "      <td>162.87</td>\n",
       "      <td>24000.0</td>\n",
       "      <td>27.65</td>\n",
       "      <td>5863.16</td>\n",
       "      <td>5833.84</td>\n",
       "      <td>5000.00</td>\n",
       "      <td>863.16</td>\n",
       "      <td>0.00</td>\n",
       "      <td>0.00</td>\n",
       "      <td>0.00</td>\n",
       "      <td>171.62</td>\n",
       "      <td>0.0</td>\n",
       "    </tr>\n",
       "    <tr>\n",
       "      <th>1</th>\n",
       "      <td>2500.0</td>\n",
       "      <td>59.83</td>\n",
       "      <td>30000.0</td>\n",
       "      <td>1.00</td>\n",
       "      <td>1008.71</td>\n",
       "      <td>1008.71</td>\n",
       "      <td>456.46</td>\n",
       "      <td>435.17</td>\n",
       "      <td>0.00</td>\n",
       "      <td>117.08</td>\n",
       "      <td>1.11</td>\n",
       "      <td>119.66</td>\n",
       "      <td>0.0</td>\n",
       "    </tr>\n",
       "    <tr>\n",
       "      <th>2</th>\n",
       "      <td>2400.0</td>\n",
       "      <td>84.33</td>\n",
       "      <td>12252.0</td>\n",
       "      <td>8.72</td>\n",
       "      <td>3005.67</td>\n",
       "      <td>3005.67</td>\n",
       "      <td>2400.00</td>\n",
       "      <td>605.67</td>\n",
       "      <td>0.00</td>\n",
       "      <td>0.00</td>\n",
       "      <td>0.00</td>\n",
       "      <td>649.91</td>\n",
       "      <td>0.0</td>\n",
       "    </tr>\n",
       "    <tr>\n",
       "      <th>3</th>\n",
       "      <td>10000.0</td>\n",
       "      <td>339.31</td>\n",
       "      <td>49200.0</td>\n",
       "      <td>20.00</td>\n",
       "      <td>12231.89</td>\n",
       "      <td>12231.89</td>\n",
       "      <td>10000.00</td>\n",
       "      <td>2214.92</td>\n",
       "      <td>16.97</td>\n",
       "      <td>0.00</td>\n",
       "      <td>0.00</td>\n",
       "      <td>357.48</td>\n",
       "      <td>0.0</td>\n",
       "    </tr>\n",
       "    <tr>\n",
       "      <th>5</th>\n",
       "      <td>5000.0</td>\n",
       "      <td>156.46</td>\n",
       "      <td>36000.0</td>\n",
       "      <td>11.20</td>\n",
       "      <td>5632.21</td>\n",
       "      <td>5632.21</td>\n",
       "      <td>5000.00</td>\n",
       "      <td>632.21</td>\n",
       "      <td>0.00</td>\n",
       "      <td>0.00</td>\n",
       "      <td>0.00</td>\n",
       "      <td>161.03</td>\n",
       "      <td>0.0</td>\n",
       "    </tr>\n",
       "    <tr>\n",
       "      <th>...</th>\n",
       "      <td>...</td>\n",
       "      <td>...</td>\n",
       "      <td>...</td>\n",
       "      <td>...</td>\n",
       "      <td>...</td>\n",
       "      <td>...</td>\n",
       "      <td>...</td>\n",
       "      <td>...</td>\n",
       "      <td>...</td>\n",
       "      <td>...</td>\n",
       "      <td>...</td>\n",
       "      <td>...</td>\n",
       "      <td>...</td>\n",
       "    </tr>\n",
       "    <tr>\n",
       "      <th>39712</th>\n",
       "      <td>1075.0</td>\n",
       "      <td>78.42</td>\n",
       "      <td>110000.0</td>\n",
       "      <td>11.33</td>\n",
       "      <td>2822.97</td>\n",
       "      <td>1213.88</td>\n",
       "      <td>2500.00</td>\n",
       "      <td>322.97</td>\n",
       "      <td>0.00</td>\n",
       "      <td>0.00</td>\n",
       "      <td>0.00</td>\n",
       "      <td>80.90</td>\n",
       "      <td>NaN</td>\n",
       "    </tr>\n",
       "    <tr>\n",
       "      <th>39713</th>\n",
       "      <td>875.0</td>\n",
       "      <td>275.38</td>\n",
       "      <td>18000.0</td>\n",
       "      <td>6.40</td>\n",
       "      <td>9913.49</td>\n",
       "      <td>1020.51</td>\n",
       "      <td>8500.00</td>\n",
       "      <td>1413.49</td>\n",
       "      <td>0.00</td>\n",
       "      <td>0.00</td>\n",
       "      <td>0.00</td>\n",
       "      <td>281.94</td>\n",
       "      <td>NaN</td>\n",
       "    </tr>\n",
       "    <tr>\n",
       "      <th>39714</th>\n",
       "      <td>1325.0</td>\n",
       "      <td>156.84</td>\n",
       "      <td>100000.0</td>\n",
       "      <td>2.30</td>\n",
       "      <td>5272.16</td>\n",
       "      <td>1397.12</td>\n",
       "      <td>5000.00</td>\n",
       "      <td>272.16</td>\n",
       "      <td>0.00</td>\n",
       "      <td>0.00</td>\n",
       "      <td>0.00</td>\n",
       "      <td>0.00</td>\n",
       "      <td>NaN</td>\n",
       "    </tr>\n",
       "    <tr>\n",
       "      <th>39715</th>\n",
       "      <td>650.0</td>\n",
       "      <td>155.38</td>\n",
       "      <td>200000.0</td>\n",
       "      <td>3.72</td>\n",
       "      <td>5174.20</td>\n",
       "      <td>672.66</td>\n",
       "      <td>5000.00</td>\n",
       "      <td>174.20</td>\n",
       "      <td>0.00</td>\n",
       "      <td>0.00</td>\n",
       "      <td>0.00</td>\n",
       "      <td>0.00</td>\n",
       "      <td>NaN</td>\n",
       "    </tr>\n",
       "    <tr>\n",
       "      <th>39716</th>\n",
       "      <td>800.0</td>\n",
       "      <td>255.43</td>\n",
       "      <td>22000.0</td>\n",
       "      <td>14.29</td>\n",
       "      <td>9195.26</td>\n",
       "      <td>980.83</td>\n",
       "      <td>7500.00</td>\n",
       "      <td>1695.26</td>\n",
       "      <td>0.00</td>\n",
       "      <td>0.00</td>\n",
       "      <td>0.00</td>\n",
       "      <td>256.59</td>\n",
       "      <td>NaN</td>\n",
       "    </tr>\n",
       "  </tbody>\n",
       "</table>\n",
       "<p>38577 rows × 13 columns</p>\n",
       "</div>"
      ],
      "text/plain": [
       "       funded_amnt_inv  installment  annual_inc    dti  total_pymnt  \\\n",
       "0               4975.0       162.87     24000.0  27.65      5863.16   \n",
       "1               2500.0        59.83     30000.0   1.00      1008.71   \n",
       "2               2400.0        84.33     12252.0   8.72      3005.67   \n",
       "3              10000.0       339.31     49200.0  20.00     12231.89   \n",
       "5               5000.0       156.46     36000.0  11.20      5632.21   \n",
       "...                ...          ...         ...    ...          ...   \n",
       "39712           1075.0        78.42    110000.0  11.33      2822.97   \n",
       "39713            875.0       275.38     18000.0   6.40      9913.49   \n",
       "39714           1325.0       156.84    100000.0   2.30      5272.16   \n",
       "39715            650.0       155.38    200000.0   3.72      5174.20   \n",
       "39716            800.0       255.43     22000.0  14.29      9195.26   \n",
       "\n",
       "       total_pymnt_inv  total_rec_prncp  total_rec_int  total_rec_late_fee  \\\n",
       "0              5833.84          5000.00         863.16                0.00   \n",
       "1              1008.71           456.46         435.17                0.00   \n",
       "2              3005.67          2400.00         605.67                0.00   \n",
       "3             12231.89         10000.00        2214.92               16.97   \n",
       "5              5632.21          5000.00         632.21                0.00   \n",
       "...                ...              ...            ...                 ...   \n",
       "39712          1213.88          2500.00         322.97                0.00   \n",
       "39713          1020.51          8500.00        1413.49                0.00   \n",
       "39714          1397.12          5000.00         272.16                0.00   \n",
       "39715           672.66          5000.00         174.20                0.00   \n",
       "39716           980.83          7500.00        1695.26                0.00   \n",
       "\n",
       "       recoveries  collection_recovery_fee  last_pymnt_amnt  \\\n",
       "0            0.00                     0.00           171.62   \n",
       "1          117.08                     1.11           119.66   \n",
       "2            0.00                     0.00           649.91   \n",
       "3            0.00                     0.00           357.48   \n",
       "5            0.00                     0.00           161.03   \n",
       "...           ...                      ...              ...   \n",
       "39712        0.00                     0.00            80.90   \n",
       "39713        0.00                     0.00           281.94   \n",
       "39714        0.00                     0.00             0.00   \n",
       "39715        0.00                     0.00             0.00   \n",
       "39716        0.00                     0.00           256.59   \n",
       "\n",
       "       pub_rec_bankruptcies  \n",
       "0                       0.0  \n",
       "1                       0.0  \n",
       "2                       0.0  \n",
       "3                       0.0  \n",
       "5                       0.0  \n",
       "...                     ...  \n",
       "39712                   NaN  \n",
       "39713                   NaN  \n",
       "39714                   NaN  \n",
       "39715                   NaN  \n",
       "39716                   NaN  \n",
       "\n",
       "[38577 rows x 13 columns]"
      ]
     },
     "execution_count": 35,
     "metadata": {},
     "output_type": "execute_result"
    }
   ],
   "source": [
    "loan_df.select_dtypes(include=['float64'])\n"
   ]
  },
  {
   "cell_type": "code",
   "execution_count": 36,
   "metadata": {},
   "outputs": [],
   "source": [
    "# DROP Duplicates if any\n",
    "loan_df=loan_df.drop_duplicates()"
   ]
  },
  {
   "cell_type": "code",
   "execution_count": null,
   "metadata": {},
   "outputs": [],
   "source": []
  },
  {
   "cell_type": "markdown",
   "metadata": {},
   "source": [
    "### converting to float : Interest Rate & Revol Util"
   ]
  },
  {
   "cell_type": "code",
   "execution_count": 37,
   "metadata": {},
   "outputs": [],
   "source": [
    "loan_df.int_rate = loan_df.int_rate.str.strip('%.').astype('float').round(2)\n",
    "loan_df.revol_util = loan_df.revol_util.str.strip('%.').astype('float').round(2)"
   ]
  },
  {
   "cell_type": "code",
   "execution_count": 38,
   "metadata": {},
   "outputs": [
    {
     "data": {
      "text/plain": [
       "17.46    1\n",
       "16.71    1\n",
       "21.48    1\n",
       "20.52    1\n",
       "22.64    1\n",
       "Name: int_rate, dtype: int64"
      ]
     },
     "execution_count": 38,
     "metadata": {},
     "output_type": "execute_result"
    }
   ],
   "source": [
    "loan_df.int_rate.value_counts().tail()"
   ]
  },
  {
   "cell_type": "code",
   "execution_count": 39,
   "metadata": {},
   "outputs": [
    {
     "data": {
      "text/plain": [
       "24.63    1\n",
       "26.33    1\n",
       "11.62    1\n",
       "70.26    1\n",
       "0.49     1\n",
       "Name: revol_util, dtype: int64"
      ]
     },
     "execution_count": 39,
     "metadata": {},
     "output_type": "execute_result"
    }
   ],
   "source": [
    "loan_df.revol_util.value_counts().tail()\n"
   ]
  },
  {
   "cell_type": "markdown",
   "metadata": {},
   "source": [
    "# Data Cleaning Completed"
   ]
  },
  {
   "cell_type": "markdown",
   "metadata": {},
   "source": [
    "# Analysis : Start"
   ]
  },
  {
   "cell_type": "code",
   "execution_count": 40,
   "metadata": {},
   "outputs": [
    {
     "data": {
      "image/png": "[encoded data removed]",
      "text/plain": [
       "<Figure size 432x288 with 1 Axes>"
      ]
     },
     "metadata": {
      "needs_background": "light"
     },
     "output_type": "display_data"
    }
   ],
   "source": [
    "sns.boxplot( y=loan_df[\"loan_amnt\"] )\n",
    "plt.ylabel('Loan Amount')\n",
    "plt.show()"
   ]
  },
  {
   "cell_type": "code",
   "execution_count": 42,
   "metadata": {},
   "outputs": [
    {
     "data": {
      "text/plain": [
       "<function matplotlib.pyplot.show(close=None, block=None)>"
      ]
     },
     "execution_count": 42,
     "metadata": {},
     "output_type": "execute_result"
    },
    {
     "data": {
      "image/png": "[encoded data removed]",
      "text/plain": [
       "<Figure size 432x288 with 1 Axes>"
      ]
     },
     "metadata": {
      "needs_background": "light"
     },
     "output_type": "display_data"
    }
   ],
   "source": [
    "sns.distplot(loan_df.loan_amnt)\n",
    "plt.show"
   ]
  },
  {
   "cell_type": "code",
   "execution_count": null,
   "metadata": {},
   "outputs": [],
   "source": []
  }
 ],
 "metadata": {
  "kernelspec": {
   "display_name": "Python 3",
   "language": "python",
   "name": "python3"
  },
  "language_info": {
   "codemirror_mode": {
    "name": "ipython",
    "version": 3
   },
   "file_extension": ".py",
   "mimetype": "text/x-python",
   "name": "python",
   "nbconvert_exporter": "python",
   "pygments_lexer": "ipython3",
   "version": "3.8.5"
  }
 },
 "nbformat": 4,
 "nbformat_minor": 4
}
